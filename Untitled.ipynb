{
 "cells": [
  {
   "cell_type": "code",
   "execution_count": 1,
   "id": "c7c2705c-e00c-414a-bc5c-168a607ed757",
   "metadata": {},
   "outputs": [
    {
     "name": "stdout",
     "output_type": "stream",
     "text": [
      "Requirement already satisfied: findspark in c:\\users\\vieir\\anaconda3\\lib\\site-packages (2.0.1)\n",
      "Note: you may need to restart the kernel to use updated packages.\n"
     ]
    }
   ],
   "source": [
    "pip install findspark"
   ]
  },
  {
   "cell_type": "code",
   "execution_count": 2,
   "id": "cfbf6fb5",
   "metadata": {},
   "outputs": [],
   "source": [
    "import numpy as np\n",
    "import pandas as pd\n"
   ]
  },
  {
   "cell_type": "code",
   "execution_count": null,
   "id": "13e77a7a-88ef-47b9-aa13-23ea7326b9f1",
   "metadata": {},
   "outputs": [],
   "source": [
    "Q1_19 = pd.read_csv ('2019Q1.csv')\n",
    "Q2_19 = pd.read_csv ('2019Q2.csv')\n",
    "Q3_19 = pd.read_csv ('2019Q3.csv')\n",
    "Q4_19 = pd.read_csv ('2019Q4.csv')\n",
    "\n",
    "Q1_20 = pd.read_csv ('2020Q1.csv')\n",
    "Q2_20 = pd.read_csv ('2020Q2.csv')\n",
    "Q3_20 = pd.read_csv ('2020Q3.csv')\n",
    "Q4_20 = pd.read_csv ('2020Q4.csv')\n",
    "\n",
    "Q1_21 = pd.read_csv ('2021Q1.csv')\n",
    "Q2_21 = pd.read_csv ('2021Q2.csv')\n",
    "Q3_21 = pd.read_csv ('2021Q3.csv')\n",
    "Q4_21 = pd.read_csv ('2021Q4.csv')\n",
    "\n"
   ]
  },
  {
   "cell_type": "code",
   "execution_count": null,
   "id": "07ca75d2-e89b-49d4-af87-b9716a8f43b1",
   "metadata": {},
   "outputs": [],
   "source": [
    "Final19 = pd.concat([Q1_19, Q2_19], axis=0)\n",
    "Final19 = pd.concat([Final19, Q3_19], axis=0)\n",
    "Final19 = pd.concat([Final19, Q4_19], axis=0)\n",
    "\n",
    "Final20 = pd.concat([Q1_20, Q2_20], axis=0)\n",
    "Final20 = pd.concat([Final20, Q3_20], axis=0)\n",
    "Final20 = pd.concat([Final20, Q4_20], axis=0)\n",
    "\n",
    "Final21 = pd.concat([Q1_21, Q2_21], axis=0)\n",
    "Final21 = pd.concat([Final21, Q3_21], axis=0)\n",
    "Final21 = pd.concat([Final21, Q4_21], axis=0)\n",
    "\n",
    "Final1 = pd.concat([Final19, Final20], axis=0)\n",
    "Final = pd.concat([Final1, Final21], axis=0)\n",
    "\n"
   ]
  },
  {
   "cell_type": "code",
   "execution_count": null,
   "id": "7308c82c-2a9b-46f7-88e6-d70ce7e76ddc",
   "metadata": {},
   "outputs": [],
   "source": [
    "\n",
    "\n",
    "\n",
    "print(Final.dtypes)\n",
    "\n",
    "Final[\"Country\"] = Final[\"Country\"].astype(\"string\")\n",
    "Final[\"City\"] = Final[\"City\"].astype(\"string\")\n",
    "Final[\"Specie\"] = Final[\"Specie\"].astype(\"string\")\n",
    "\n",
    "print(Final.dtypes)\n"
   ]
  },
  {
   "cell_type": "code",
   "execution_count": 3,
   "id": "ab6a0f80-9f0e-4fbd-bbe3-724c2958dafa",
   "metadata": {},
   "outputs": [
    {
     "ename": "NameError",
     "evalue": "name 'Final' is not defined",
     "output_type": "error",
     "traceback": [
      "\u001b[1;31m---------------------------------------------------------------------------\u001b[0m",
      "\u001b[1;31mNameError\u001b[0m                                 Traceback (most recent call last)",
      "\u001b[1;32m<ipython-input-3-2447e2945616>\u001b[0m in \u001b[0;36m<module>\u001b[1;34m\u001b[0m\n\u001b[0;32m      5\u001b[0m \u001b[0mfilepath\u001b[0m\u001b[1;33m.\u001b[0m\u001b[0mparent\u001b[0m\u001b[1;33m.\u001b[0m\u001b[0mmkdir\u001b[0m\u001b[1;33m(\u001b[0m\u001b[0mparents\u001b[0m\u001b[1;33m=\u001b[0m\u001b[1;32mTrue\u001b[0m\u001b[1;33m,\u001b[0m \u001b[0mexist_ok\u001b[0m\u001b[1;33m=\u001b[0m\u001b[1;32mTrue\u001b[0m\u001b[1;33m)\u001b[0m\u001b[1;33m\u001b[0m\u001b[1;33m\u001b[0m\u001b[0m\n\u001b[0;32m      6\u001b[0m \u001b[1;33m\u001b[0m\u001b[0m\n\u001b[1;32m----> 7\u001b[1;33m \u001b[0mFinal\u001b[0m\u001b[1;33m.\u001b[0m\u001b[0mto_csv\u001b[0m\u001b[1;33m(\u001b[0m\u001b[0mfilepath\u001b[0m\u001b[1;33m)\u001b[0m\u001b[1;33m\u001b[0m\u001b[1;33m\u001b[0m\u001b[0m\n\u001b[0m",
      "\u001b[1;31mNameError\u001b[0m: name 'Final' is not defined"
     ]
    }
   ],
   "source": [
    "from pathlib import Path  \n",
    "\n",
    "filepath = Path('Final.csv')  \n",
    "\n",
    "filepath.parent.mkdir(parents=True, exist_ok=True)  \n",
    "\n",
    "Final.to_csv(filepath)  "
   ]
  },
  {
   "cell_type": "code",
   "execution_count": 1,
   "id": "47c97647-bb9e-45b2-ba10-6ee7836d2adc",
   "metadata": {},
   "outputs": [],
   "source": [
    "import findspark\n",
    "findspark.init()\n",
    "findspark.find()\n",
    "\n",
    "import pyspark\n",
    "from pyspark.sql import SparkSession\n",
    "from pyspark.sql import functions as f\n",
    "spark = SparkSession.builder.master(\"local[1]\").appName(\"BigData.com\").getOrCreate()\n"
   ]
  },
  {
   "cell_type": "code",
   "execution_count": 12,
   "id": "9ae80022-37f5-42f0-96bd-0ab4ae96e3b7",
   "metadata": {},
   "outputs": [
    {
     "name": "stdout",
     "output_type": "stream",
     "text": [
      "+------------+----------+-------------------------+------------------------+---------+--------------------+--------------+---------------+\n",
      "|Country_code|      Date|retail_and_recreation_pbl|grocery_and_pharmacy_pbl|parks_pbl|transit_stations_pbl|workplaces_pbl|residential_pbl|\n",
      "+------------+----------+-------------------------+------------------------+---------+--------------------+--------------+---------------+\n",
      "|          AE|2020-05-10|                      -48|                     -19|      -66|                 -61|           -42|             27|\n",
      "|          AE|2021-04-13|                      -21|                      22|      -33|                 -29|           -18|             13|\n",
      "|          AE|2021-07-11|                       -3|                      23|      -33|                 -25|           -13|              7|\n",
      "|          AE|2021-08-30|                       -3|                      23|      -34|                 -24|           -13|              6|\n",
      "|          AF|2021-05-01|                       26|                      39|       10|                  -4|             3|              3|\n",
      "|          AF|2021-05-05|                       41|                      81|        6|                   3|             1|              2|\n",
      "|          AF|2021-10-27|                       41|                      97|       16|                 -25|           -20|              0|\n",
      "|          AF|2022-04-01|                      102|                     231|      138|                   9|            37|              4|\n",
      "|          AF|2022-05-04|                       74|                     154|      151|                 -15|           -38|              8|\n",
      "|          AG|2020-02-25|                        1|                       0|        1|                  -3|             2|              1|\n",
      "|          AG|2020-12-09|                      -44|                     -25|       60|                 -72|           -73|             22|\n",
      "|          AG|2021-02-01|                      -17|                      -4|       42|                 -36|           -27|             -3|\n",
      "|          AG|2021-10-18|                       15|                      15|       72|                 -37|           -20|             -5|\n",
      "|          AG|2022-02-27|                       51|                      23|      103|                 -17|            -1|             -6|\n",
      "|          AO|2020-03-18|                       -4|                       1|       -1|                 -12|             5|              0|\n",
      "|          AO|2020-07-14|                      -19|                      -7|      -14|                 -35|           -19|             14|\n",
      "|          AO|2020-09-09|                       -1|                      -1|     null|                null|           -14|             10|\n",
      "|          AO|2021-02-04|                      -22|                     -15|       18|                 -28|           -73|             10|\n",
      "|          AO|2021-02-18|                       -4|                       2|       23|                 -10|           -16|             -2|\n",
      "|          AO|2021-03-26|                        3|                      16|       19|                 -37|           -14|             -1|\n",
      "+------------+----------+-------------------------+------------------------+---------+--------------------+--------------+---------------+\n",
      "only showing top 20 rows\n",
      "\n"
     ]
    }
   ],
   "source": [
    "mobility = spark.read.csv(\"Mobility.csv\", header=True)\n",
    "\n",
    "mobility = mobility.dropDuplicates(['country_region_code', 'date'])\n",
    "\n",
    "mobility = mobility.drop(f.col(\"sub_region_1\"))\n",
    "mobility = mobility.drop(f.col(\"sub_region_2\"))\n",
    "mobility = mobility.drop(f.col(\"metro_area\"))\n",
    "mobility = mobility.drop(f.col(\"iso_3166_2_code\"))\n",
    "mobility = mobility.drop(f.col(\"census_fips_code\"))\n",
    "mobility = mobility.drop(f.col(\"place_id\"))\n",
    "\n",
    "\n",
    "mobility = mobility.withColumnRenamed(\"country_region_code\", \"Country_code\")\n",
    "mobility = mobility.withColumnRenamed(\"date\", \"Date\")\n",
    "mobility = mobility.drop(f.col(\"country_region\"))\n",
    "mobility.show()\n"
   ]
  },
  {
   "cell_type": "code",
   "execution_count": 3,
   "id": "604b2dc0-71af-4eb9-b559-b0eb941fa32c",
   "metadata": {},
   "outputs": [
    {
     "name": "stdout",
     "output_type": "stream",
     "text": [
      "+----------+------------+---------+----------------+----------+-----------------+\n",
      "|      Date|Country_code|New_cases|Cumulative_cases|New_deaths|Cumulative_deaths|\n",
      "+----------+------------+---------+----------------+----------+-----------------+\n",
      "|2020-01-03|          AF|        0|               0|         0|                0|\n",
      "|2020-01-04|          AF|        0|               0|         0|                0|\n",
      "|2020-01-05|          AF|        0|               0|         0|                0|\n",
      "|2020-01-06|          AF|        0|               0|         0|                0|\n",
      "|2020-01-07|          AF|        0|               0|         0|                0|\n",
      "|2020-01-08|          AF|        0|               0|         0|                0|\n",
      "|2020-01-09|          AF|        0|               0|         0|                0|\n",
      "|2020-01-10|          AF|        0|               0|         0|                0|\n",
      "|2020-01-11|          AF|        0|               0|         0|                0|\n",
      "|2020-01-12|          AF|        0|               0|         0|                0|\n",
      "|2020-01-13|          AF|        0|               0|         0|                0|\n",
      "|2020-01-14|          AF|        0|               0|         0|                0|\n",
      "|2020-01-15|          AF|        0|               0|         0|                0|\n",
      "|2020-01-16|          AF|        0|               0|         0|                0|\n",
      "|2020-01-17|          AF|        0|               0|         0|                0|\n",
      "|2020-01-18|          AF|        0|               0|         0|                0|\n",
      "|2020-01-19|          AF|        0|               0|         0|                0|\n",
      "|2020-01-20|          AF|        0|               0|         0|                0|\n",
      "|2020-01-21|          AF|        0|               0|         0|                0|\n",
      "|2020-01-22|          AF|        0|               0|         0|                0|\n",
      "+----------+------------+---------+----------------+----------+-----------------+\n",
      "only showing top 20 rows\n",
      "\n",
      "205953\n"
     ]
    }
   ],
   "source": [
    "covid = spark.read.csv(\"Covid.csv\", header=True)\n",
    "covid = covid.drop(f.col(\"WHO_region\"))\n",
    "covid = covid.drop(f.col(\"Country\"))\n",
    "covid = covid.withColumnRenamed(\"Date_reported\", \"Date\")\n",
    "covid.show()"
   ]
  },
  {
   "cell_type": "markdown",
   "id": "194c8406",
   "metadata": {},
   "source": [
    "Air quality\n"
   ]
  },
  {
   "cell_type": "code",
   "execution_count": 4,
   "id": "8a8af7a8-78ed-4814-97ce-48d15037be39",
   "metadata": {},
   "outputs": [
    {
     "name": "stdout",
     "output_type": "stream",
     "text": [
      "+----------+------------+---------+------+-----+-----+-----+------+--------+\n",
      "|      Date|Country_code|     City|Specie|count|  min|  max|median|variance|\n",
      "+----------+------------+---------+------+-----+-----+-----+------+--------+\n",
      "|2019-01-16|          AE|Abu Dhabi|  pm10| 24.0| 86.0| 99.0|  97.0|   179.4|\n",
      "|2019-01-22|          AE|Abu Dhabi|  pm10| 24.0| 51.0| 57.0|  55.0|   23.75|\n",
      "|2019-01-26|          AE|Abu Dhabi|  pm10| 24.0|136.0|173.0| 160.0|  941.96|\n",
      "|2019-01-07|          AE|Abu Dhabi|  pm10| 24.0| 60.0| 91.0|  72.0| 1006.88|\n",
      "|2019-01-10|          AE|Abu Dhabi|  pm10| 24.0| 82.0| 93.0|  87.0|   57.97|\n",
      "|2019-01-14|          AE|Abu Dhabi|  pm10| 24.0| 65.0| 76.0|  74.0|   88.68|\n",
      "|2019-01-15|          AE|Abu Dhabi|  pm10| 24.0| 76.0| 97.0|  83.0|  637.66|\n",
      "|2019-01-21|          AE|Abu Dhabi|  pm10| 24.0| 52.0| 59.0|  58.0|   69.98|\n",
      "|2019-01-08|          AE|Abu Dhabi|  pm10| 24.0| 92.0| 98.0|  97.0|   26.79|\n",
      "|2019-01-17|          AE|Abu Dhabi|  pm10| 24.0| 74.0| 85.0|  77.0|  199.55|\n",
      "|2019-01-19|          AE|Abu Dhabi|  pm10| 24.0|215.0|445.0| 312.0| 62281.6|\n",
      "|2019-01-20|          AE|Abu Dhabi|  pm10| 24.0| 60.0|369.0| 139.0| 90688.2|\n",
      "|2019-01-27|          AE|Abu Dhabi|  pm10| 13.0| 89.0|132.0| 106.0| 2300.77|\n",
      "|2019-01-11|          AE|Abu Dhabi|  pm10| 24.0| 47.0| 81.0|  64.0| 1403.41|\n",
      "|2019-01-12|          AE|Abu Dhabi|  pm10| 24.0| 34.0| 46.0|  40.0|  157.97|\n",
      "|2019-01-18|          AE|Abu Dhabi|  pm10| 24.0| 91.0|213.0| 157.0| 12198.8|\n",
      "|2019-01-23|          AE|Abu Dhabi|  pm10| 23.0| 50.0|141.0|  58.0| 9890.44|\n",
      "|2019-01-24|          AE|Abu Dhabi|  pm10| 24.0|148.0|249.0| 197.0| 9486.36|\n",
      "|2019-01-25|          AE|Abu Dhabi|  pm10| 24.0|175.0|272.0| 248.0| 14237.3|\n",
      "|2018-12-31|          AE|Abu Dhabi|  pm10|109.0| 30.0| 62.0|  56.0|  871.33|\n",
      "+----------+------------+---------+------+-----+-----+-----+------+--------+\n",
      "only showing top 20 rows\n",
      "\n"
     ]
    }
   ],
   "source": [
    "from pyspark.sql.functions import mean, sum, avg, min, max, count\n",
    "\n",
    "airquality = spark.read.csv(\"Final.csv\", header=True)\n",
    "\n",
    "airquality = airquality.drop(f.col(\"_c0\"))\n",
    "airquality = airquality.withColumnRenamed(\"Country\", \"Country_code\")\n",
    "\n",
    "airquality = airquality.withColumn(\"count\",f.col(\"count\").cast('double'))\n",
    "airquality = airquality.withColumn(\"min\",f.col(\"min\").cast('double'))\n",
    "airquality = airquality.withColumn(\"max\",f.col(\"max\").cast('double'))\n",
    "airquality = airquality.withColumn(\"median\",f.col(\"median\").cast('double'))\n",
    "airquality = airquality.withColumn(\"variance\",f.col(\"variance\").cast('double'))\n",
    "\n",
    "\n",
    "airquality.show()"
   ]
  },
  {
   "cell_type": "code",
   "execution_count": 5,
   "id": "f2b37724",
   "metadata": {},
   "outputs": [
    {
     "name": "stdout",
     "output_type": "stream",
     "text": [
      "+----------+------------+-----------+------+------+------+------------------+------------------+\n",
      "|      Date|Country_code|     Specie| Count|   Min|   Max|            Median|          Variance|\n",
      "+----------+------------+-----------+------+------+------+------------------+------------------+\n",
      "|2019-01-05|          AE| wind-speed|  72.0|   1.0|   4.6|               3.6|             11.81|\n",
      "|2019-03-20|          AE|temperature|  48.0|  16.0|  24.0|              21.0|             53.84|\n",
      "|2019-01-26|          CZ|temperature|1104.0|  -7.7|   3.8|             -1.52|            41.286|\n",
      "|2019-02-17|          CZ|       pm25| 984.0|  34.0| 184.0|             127.4|          6926.472|\n",
      "|2019-01-14|          CZ|       pm10|1010.0|   1.0|  52.0|               7.8|            431.09|\n",
      "|2019-02-02|          CZ|         o3| 881.0|   0.5|  30.9|             16.98|307.93399999999997|\n",
      "|2019-02-09|          CZ|  wind-gust| 544.0|   0.2|  36.6|              7.75|467.40000000000003|\n",
      "|2019-02-25|          SG|temperature| 120.0|  23.7|  32.5|              27.5|             72.06|\n",
      "|2019-02-16|          SG|         o3| 103.0|   6.0|  24.0|              14.0|            245.01|\n",
      "|2019-01-22|          SG|       pm25| 120.0|   9.0|  59.0|              38.0|           2098.01|\n",
      "|2019-02-09|          SG| wind-speed|  96.0|   0.7|   6.9|               3.0|             33.03|\n",
      "|2019-02-10|          AT| wind-speed| 706.0|   0.1|  25.9|              2.84|           140.204|\n",
      "|2019-02-24|          AT|       pm10| 909.0|   5.0|  55.0|              19.2|            615.37|\n",
      "|2019-02-28|          AT|temperature|1032.0|  -5.0|  24.1|             10.66|           569.978|\n",
      "|2019-03-06|          AT|       pm25| 425.0|   5.0|  68.0|              23.5|          2055.015|\n",
      "|2019-02-14|          AT|       pm25| 410.0|   5.0| 112.0|              53.0|           1283.43|\n",
      "|2019-01-06|          BE|   pressure| 936.0|1024.5|1038.4|1034.2166666666665| 39.02166666666667|\n",
      "|2019-02-06|          KR|         wd|4258.0|   0.0| 337.5|193.02631578947367| 69682.86842105264|\n",
      "|2019-03-08|          KR|        so2|4880.0|   1.5|  56.0| 5.549999999999999|           180.849|\n",
      "|2019-01-24|          KR|        so2|4695.0|   1.5|  63.2| 6.764999999999999|          176.0925|\n",
      "+----------+------------+-----------+------+------+------+------------------+------------------+\n",
      "only showing top 20 rows\n",
      "\n"
     ]
    }
   ],
   "source": [
    "airquality = spark.read.csv(\"Final.csv\", header=True)\n",
    "\n",
    "airquality = airquality.drop(f.col(\"_c0\"))\n",
    "airquality = airquality.withColumnRenamed(\"Country\", \"Country_code\")\n",
    "\n",
    "airquality = airquality.withColumn(\"count\",f.col(\"count\").cast('double'))\n",
    "airquality = airquality.withColumn(\"min\",f.col(\"min\").cast('double'))\n",
    "airquality = airquality.withColumn(\"max\",f.col(\"max\").cast('double'))\n",
    "airquality = airquality.withColumn(\"median\",f.col(\"median\").cast('double'))\n",
    "airquality = airquality.withColumn(\"variance\",f.col(\"variance\").cast('double'))\n",
    "\n",
    "airquality = airquality.groupBy(\"Date\", \"Country_code\", \"Specie\").agg(sum(\"count\").alias(\"Count\"),min(\"min\").alias(\"Min\"),max(\"max\").alias(\"Max\"),mean(\"median\").alias(\"Median\"),mean(\"variance\").alias(\"Variance\"))\n",
    "# airquality.filter(f.col(\"Country_code\") == \"AE\").show()\n",
    "\n",
    "airquality.show()"
   ]
  },
  {
   "cell_type": "markdown",
   "id": "d32cda6a",
   "metadata": {},
   "source": [
    "Junção de datasets"
   ]
  },
  {
   "cell_type": "code",
   "execution_count": 13,
   "id": "9f8b02c4-e837-4bb2-9b2c-2810af204ec3",
   "metadata": {},
   "outputs": [
    {
     "name": "stdout",
     "output_type": "stream",
     "text": [
      "+------------+----------+-------------------------+------------------------+---------+--------------------+--------------+---------------+---------+----------------+----------+-----------------+\n",
      "|Country_code|      Date|retail_and_recreation_pbl|grocery_and_pharmacy_pbl|parks_pbl|transit_stations_pbl|workplaces_pbl|residential_pbl|New_cases|Cumulative_cases|New_deaths|Cumulative_deaths|\n",
      "+------------+----------+-------------------------+------------------------+---------+--------------------+--------------+---------------+---------+----------------+----------+-----------------+\n",
      "|          AE|2020-05-10|                      -48|                     -19|      -66|                 -61|           -42|             27|      624|           17417|        11|              185|\n",
      "|          AE|2021-04-13|                      -21|                      22|      -33|                 -29|           -18|             13|     1928|          485675|         2|             1533|\n",
      "|          AE|2021-07-11|                       -3|                      23|      -33|                 -25|           -13|              7|     1520|          648702|         7|             1860|\n",
      "|          AE|2021-08-30|                       -3|                      23|      -34|                 -24|           -13|              6|      987|          716381|         2|             2038|\n",
      "|          AF|2021-05-01|                       26|                      39|       10|                  -4|             3|              3|      194|           59939|         6|             2631|\n",
      "|          AF|2021-05-05|                       41|                      81|        6|                   3|             1|              2|      234|           60797|         6|             2654|\n",
      "|          AF|2021-10-27|                       41|                      97|       16|                 -25|           -20|              0|       31|          155949|         2|             7262|\n",
      "|          AF|2022-04-01|                      102|                     231|      138|                   9|            37|              4|       53|          177747|         5|             7670|\n",
      "|          AF|2022-05-04|                       74|                     154|      151|                 -15|           -38|              8|        0|          178901|         0|             7683|\n",
      "|          AG|2020-02-25|                        1|                       0|        1|                  -3|             2|              1|        0|               0|         0|                0|\n",
      "|          AG|2020-12-09|                      -44|                     -25|       60|                 -72|           -73|             22|        0|             146|         0|                4|\n",
      "|          AG|2021-02-01|                      -17|                      -4|       42|                 -36|           -27|             -3|        2|             220|         0|                7|\n",
      "|          AG|2021-10-18|                       15|                      15|       72|                 -37|           -20|             -5|        0|            3888|         0|               95|\n",
      "|          AG|2022-02-27|                       51|                      23|      103|                 -17|            -1|             -6|        0|            7437|         0|              135|\n",
      "|          AO|2020-03-18|                       -4|                       1|       -1|                 -12|             5|              0|        0|               0|         0|                0|\n",
      "|          AO|2020-07-14|                      -19|                      -7|      -14|                 -35|           -19|             14|       19|             525|         0|               26|\n",
      "|          AO|2020-09-09|                       -1|                      -1|     null|                null|           -14|             10|       52|            3033|         4|              124|\n",
      "|          AO|2021-02-04|                      -22|                     -15|       18|                 -28|           -73|             10|       37|           19937|         2|              470|\n",
      "|          AO|2021-02-18|                       -4|                       2|       23|                 -10|           -16|             -2|       11|           20400|         2|              496|\n",
      "|          AO|2021-03-26|                        3|                      16|       19|                 -37|           -14|             -1|       78|           21914|         0|              532|\n",
      "+------------+----------+-------------------------+------------------------+---------+--------------------+--------------+---------------+---------+----------------+----------+-----------------+\n",
      "only showing top 20 rows\n",
      "\n"
     ]
    }
   ],
   "source": [
    "cond = [mobility.Country_code == covid.Country_code, mobility.Date == covid.Date ]\n",
    "join_df = mobility.join(covid, cond).drop(covid.Country_code)\n",
    "join_df = join_df.drop(covid.Date)\n",
    "join_df.show(truncate=True)"
   ]
  },
  {
   "cell_type": "code",
   "execution_count": 14,
   "id": "1471ed16-0429-40f7-971e-b8c0fbe9dd2f",
   "metadata": {},
   "outputs": [],
   "source": [
    "cond = [join_df.Country_code == airquality.Country_code, join_df.Date == airquality.Date ]\n",
    "final_join = join_df.join(airquality, cond).drop(airquality.Date)\n",
    "final_join = final_join.drop(airquality.Country_code)\n"
   ]
  },
  {
   "cell_type": "code",
   "execution_count": 15,
   "id": "02260ec3",
   "metadata": {},
   "outputs": [
    {
     "name": "stdout",
     "output_type": "stream",
     "text": [
      "524353\n",
      "524353\n"
     ]
    }
   ],
   "source": [
    "\n",
    "print(final_join.count())"
   ]
  },
  {
   "cell_type": "code",
   "execution_count": 9,
   "id": "c80236cb",
   "metadata": {},
   "outputs": [
    {
     "name": "stdout",
     "output_type": "stream",
     "text": [
      "75847\n"
     ]
    }
   ],
   "source": [
    "final_join."
   ]
  },
  {
   "cell_type": "code",
   "execution_count": 16,
   "id": "141ee4a4",
   "metadata": {},
   "outputs": [],
   "source": [
    "import csv\n",
    "\n",
    "def spark_to_csv(df, file_path):\n",
    "    \"\"\" Converts spark dataframe to CSV file \"\"\"\n",
    "    with open(file_path, \"w\") as f:\n",
    "        writer = csv.DictWriter(f, fieldnames=df.columns)\n",
    "        writer.writerow(dict(zip(df.columns, df.columns)))\n",
    "        for row in df.toLocalIterator():\n",
    "            writer.writerow(row.asDict())\n",
    "\n",
    "# final_join.write.csv(r\"C:\\Users\\vieir\\Desktop\\Mestrado\\4ºano\\2ºSemestre\\EC\\BigData\\TP\\KKK.csv\")\n",
    "spark_to_csv(final_join, r\"Bigdata.csv\")"
   ]
  },
  {
   "cell_type": "code",
   "execution_count": null,
   "id": "746c3e80",
   "metadata": {},
   "outputs": [],
   "source": [
    "print(final)"
   ]
  }
 ],
 "metadata": {
  "interpreter": {
   "hash": "8b28b2ec707c975bfd77e8df957cf32552607c9038051fefa7a3423228fb0ce2"
  },
  "kernelspec": {
   "display_name": "Python 3",
   "language": "python",
   "name": "python3"
  },
  "language_info": {
   "codemirror_mode": {
    "name": "ipython",
    "version": 3
   },
   "file_extension": ".py",
   "mimetype": "text/x-python",
   "name": "python",
   "nbconvert_exporter": "python",
   "pygments_lexer": "ipython3",
   "version": "3.8.8"
  }
 },
 "nbformat": 4,
 "nbformat_minor": 5
}
